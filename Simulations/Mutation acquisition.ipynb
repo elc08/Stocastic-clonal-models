{
 "cells": [
  {
   "cell_type": "code",
   "execution_count": 1,
   "metadata": {},
   "outputs": [],
   "source": [
    "# import general packages\n",
    "import numpy as np\n",
    "import plotly.express as px\n",
    "import plotly.graph_objects as go\n",
    "\n",
    "import dill\n",
    "import multiprocessing as mp\n",
    "from tqdm import tqdm"
   ]
  },
  {
   "cell_type": "code",
   "execution_count": 4,
   "metadata": {},
   "outputs": [],
   "source": [
    "# Import stochastic model from repository\n",
    "import os\n",
    "import sys\n",
    "sys.path.append('..')\n",
    "import models.mutation as mutation"
   ]
  },
  {
   "cell_type": "code",
   "execution_count": 5,
   "metadata": {},
   "outputs": [],
   "source": [
    "# Create path for exporting fit plots\n",
    "path = '../Plots/Mutation CBD/'\n",
    "if not os.path.exists(path):\n",
    "    os.makedirs(path)"
   ]
  },
  {
   "cell_type": "markdown",
   "metadata": {},
   "source": [
    "# Modelling the evolution of mutations acquired in SCs"
   ]
  },
  {
   "cell_type": "code",
   "execution_count": 6,
   "metadata": {
    "scrolled": false
   },
   "outputs": [
    {
     "name": "stderr",
     "output_type": "stream",
     "text": [
      "100%|██████████| 10000/10000 [08:26<00:00, 19.74it/s] \n"
     ]
    },
    {
     "data": {
      "image/svg+xml": [
       "<svg class=\"main-svg\" xmlns=\"http://www.w3.org/2000/svg\" xmlns:xlink=\"http://www.w3.org/1999/xlink\" width=\"700\" height=\"500\" style=\"\" viewBox=\"0 0 700 500\"><rect x=\"0\" y=\"0\" width=\"700\" height=\"500\" style=\"fill: rgb(255, 255, 255); fill-opacity: 1;\"/><defs id=\"defs-c1005c\"><g class=\"clips\"><clipPath id=\"clipc1005cxyplot\" class=\"plotclip\"><rect width=\"540\" height=\"320\"/></clipPath><clipPath class=\"axesclip\" id=\"clipc1005cx\"><rect x=\"80\" y=\"0\" width=\"540\" height=\"500\"/></clipPath><clipPath class=\"axesclip\" id=\"clipc1005cy\"><rect x=\"0\" y=\"100\" width=\"700\" height=\"320\"/></clipPath><clipPath class=\"axesclip\" id=\"clipc1005cxy\"><rect x=\"80\" y=\"100\" width=\"540\" height=\"320\"/></clipPath></g><g class=\"gradients\"/><g class=\"patterns\"/></defs><g class=\"bglayer\"><rect class=\"bg\" x=\"80\" y=\"100\" width=\"540\" height=\"320\" style=\"fill: rgb(229, 236, 246); fill-opacity: 1; stroke-width: 0;\"/></g><g class=\"layer-below\"><g class=\"imagelayer\"/><g class=\"shapelayer\"/></g><g class=\"cartesianlayer\"><g class=\"subplot xy\"><g class=\"layer-subplot\"><g class=\"shapelayer\"/><g class=\"imagelayer\"/></g><g class=\"gridlayer\"><g class=\"x\"><path class=\"xgrid crisp\" transform=\"translate(200,0)\" d=\"M0,100v320\" style=\"stroke: rgb(255, 255, 255); stroke-opacity: 1; stroke-width: 1px;\"/><path class=\"xgrid crisp\" transform=\"translate(320,0)\" d=\"M0,100v320\" style=\"stroke: rgb(255, 255, 255); stroke-opacity: 1; stroke-width: 1px;\"/><path class=\"xgrid crisp\" transform=\"translate(440,0)\" d=\"M0,100v320\" style=\"stroke: rgb(255, 255, 255); stroke-opacity: 1; stroke-width: 1px;\"/><path class=\"xgrid crisp\" transform=\"translate(560,0)\" d=\"M0,100v320\" style=\"stroke: rgb(255, 255, 255); stroke-opacity: 1; stroke-width: 1px;\"/></g><g class=\"y\"><path class=\"ygrid crisp\" transform=\"translate(0,389.84)\" d=\"M80,0h540\" style=\"stroke: rgb(255, 255, 255); stroke-opacity: 1; stroke-width: 1px;\"/><path class=\"ygrid crisp\" transform=\"translate(0,338.53)\" d=\"M80,0h540\" style=\"stroke: rgb(255, 255, 255); stroke-opacity: 1; stroke-width: 1px;\"/><path class=\"ygrid crisp\" transform=\"translate(0,287.23)\" d=\"M80,0h540\" style=\"stroke: rgb(255, 255, 255); stroke-opacity: 1; stroke-width: 1px;\"/><path class=\"ygrid crisp\" transform=\"translate(0,235.93)\" d=\"M80,0h540\" style=\"stroke: rgb(255, 255, 255); stroke-opacity: 1; stroke-width: 1px;\"/><path class=\"ygrid crisp\" transform=\"translate(0,184.62)\" d=\"M80,0h540\" style=\"stroke: rgb(255, 255, 255); stroke-opacity: 1; stroke-width: 1px;\"/><path class=\"ygrid crisp\" transform=\"translate(0,133.32)\" d=\"M80,0h540\" style=\"stroke: rgb(255, 255, 255); stroke-opacity: 1; stroke-width: 1px;\"/></g></g><g class=\"zerolinelayer\"><path class=\"xzl zl crisp\" transform=\"translate(80,0)\" d=\"M0,100v320\" style=\"stroke: rgb(255, 255, 255); stroke-opacity: 1; stroke-width: 2px;\"/></g><path class=\"xlines-below\"/><path class=\"ylines-below\"/><g class=\"overlines-below\"/><g class=\"xaxislayer-below\"/><g class=\"yaxislayer-below\"/><g class=\"overaxes-below\"/><g class=\"plot\" transform=\"translate(80,100)\" clip-path=\"url(#clipc1005cxyplot)\"><g class=\"scatterlayer mlayer\"><g class=\"trace scatter tracee7d69d\" style=\"stroke-miterlimit: 2; opacity: 1;\"><g class=\"fills\"/><g class=\"errorbars\"/><g class=\"lines\"><path class=\"js-line\" d=\"M0,289.84L6,293.2L12,265.29L18,264.85L24,293.64L30,283.43L36,304L42,279.81L48,284.71L54,268.06L60,247.72L66,258.29L72,257.06L78,227.15L84,237.97L90,214.78L96,214.01L102,220.12L108,192.51L114,168.63L120,148.7L126,70.54L132,32.9L138,49.53L144,32.24L150,27.77L156,53.12L162,16L168,65.46L174,125.51L180,102.99L186,94.16L192,87.29L198,91.96L204,99.58L210,89.93L216,91.91L222,59.07L228,83.36L234,57.94L240,89.78L246,91.57L252,82.36L258,110.53L264,157.65L270,168.02L276,146.24L282,131.92L288,124.97L294,90.19L300,148.57L306,130.23L312,135.85L318,169.35L324,181.74L330,151.8L336,139.11L342,128.95L348,124.66L354,148.98L360,139.62L366,187.9L372,135.1L378,85.29L384,74.31L390,97.47L396,101.17L402,91.7L408,107.25L414,107.17L420,104.19L426,71.9L432,19.21L438,41.42L444,92.93L450,98.11L456,97.29L462,103.06L468,110.2L474,106.25L480,68.59L486,90.49L492,150.19L498,155.88L504,123.23L510,128.23L516,86.95L522,69.54L528,145.39L534,101.7L540,88.49\" style=\"vector-effect: non-scaling-stroke; fill: none; stroke: rgb(99, 110, 250); stroke-opacity: 1; stroke-width: 2px; opacity: 1;\"/></g><g class=\"points\"/><g class=\"text\"/></g></g></g><g class=\"overplot\"/><path class=\"xlines-above crisp\" d=\"M0,0\" style=\"fill: none;\"/><path class=\"ylines-above crisp\" d=\"M0,0\" style=\"fill: none;\"/><g class=\"overlines-above\"/><g class=\"xaxislayer-above\"><g class=\"xtick\"><text text-anchor=\"middle\" x=\"0\" y=\"433\" transform=\"translate(80,0)\" style=\"font-family: 'Open Sans', verdana, arial, sans-serif; font-size: 12px; fill: rgb(42, 63, 95); fill-opacity: 1; white-space: pre; opacity: 1;\">0</text></g><g class=\"xtick\"><text text-anchor=\"middle\" x=\"0\" y=\"433\" style=\"font-family: 'Open Sans', verdana, arial, sans-serif; font-size: 12px; fill: rgb(42, 63, 95); fill-opacity: 1; white-space: pre; opacity: 1;\" transform=\"translate(200,0)\">20</text></g><g class=\"xtick\"><text text-anchor=\"middle\" x=\"0\" y=\"433\" style=\"font-family: 'Open Sans', verdana, arial, sans-serif; font-size: 12px; fill: rgb(42, 63, 95); fill-opacity: 1; white-space: pre; opacity: 1;\" transform=\"translate(320,0)\">40</text></g><g class=\"xtick\"><text text-anchor=\"middle\" x=\"0\" y=\"433\" style=\"font-family: 'Open Sans', verdana, arial, sans-serif; font-size: 12px; fill: rgb(42, 63, 95); fill-opacity: 1; white-space: pre; opacity: 1;\" transform=\"translate(440,0)\">60</text></g><g class=\"xtick\"><text text-anchor=\"middle\" x=\"0\" y=\"433\" style=\"font-family: 'Open Sans', verdana, arial, sans-serif; font-size: 12px; fill: rgb(42, 63, 95); fill-opacity: 1; white-space: pre; opacity: 1;\" transform=\"translate(560,0)\">80</text></g></g><g class=\"yaxislayer-above\"><g class=\"ytick\"><text text-anchor=\"end\" x=\"79\" y=\"4.199999999999999\" transform=\"translate(0,389.84)\" style=\"font-family: 'Open Sans', verdana, arial, sans-serif; font-size: 12px; fill: rgb(42, 63, 95); fill-opacity: 1; white-space: pre; opacity: 1;\">10k</text></g><g class=\"ytick\"><text text-anchor=\"end\" x=\"79\" y=\"4.199999999999999\" style=\"font-family: 'Open Sans', verdana, arial, sans-serif; font-size: 12px; fill: rgb(42, 63, 95); fill-opacity: 1; white-space: pre; opacity: 1;\" transform=\"translate(0,338.53)\">12k</text></g><g class=\"ytick\"><text text-anchor=\"end\" x=\"79\" y=\"4.199999999999999\" style=\"font-family: 'Open Sans', verdana, arial, sans-serif; font-size: 12px; fill: rgb(42, 63, 95); fill-opacity: 1; white-space: pre; opacity: 1;\" transform=\"translate(0,287.23)\">14k</text></g><g class=\"ytick\"><text text-anchor=\"end\" x=\"79\" y=\"4.199999999999999\" style=\"font-family: 'Open Sans', verdana, arial, sans-serif; font-size: 12px; fill: rgb(42, 63, 95); fill-opacity: 1; white-space: pre; opacity: 1;\" transform=\"translate(0,235.93)\">16k</text></g><g class=\"ytick\"><text text-anchor=\"end\" x=\"79\" y=\"4.199999999999999\" style=\"font-family: 'Open Sans', verdana, arial, sans-serif; font-size: 12px; fill: rgb(42, 63, 95); fill-opacity: 1; white-space: pre; opacity: 1;\" transform=\"translate(0,184.62)\">18k</text></g><g class=\"ytick\"><text text-anchor=\"end\" x=\"79\" y=\"4.199999999999999\" style=\"font-family: 'Open Sans', verdana, arial, sans-serif; font-size: 12px; fill: rgb(42, 63, 95); fill-opacity: 1; white-space: pre; opacity: 1;\" transform=\"translate(0,133.32)\">20k</text></g></g><g class=\"overaxes-above\"/></g></g><g class=\"polarlayer\"/><g class=\"ternarylayer\"/><g class=\"geolayer\"/><g class=\"funnelarealayer\"/><g class=\"pielayer\"/><g class=\"iciclelayer\"/><g class=\"treemaplayer\"/><g class=\"sunburstlayer\"/><g class=\"glimages\"/><defs id=\"topdefs-c1005c\"><g class=\"clips\"/></defs><g class=\"layer-above\"><g class=\"imagelayer\"/><g class=\"shapelayer\"/></g><g class=\"infolayer\"><g class=\"g-gtitle\"><text class=\"gtitle\" x=\"35\" y=\"50\" text-anchor=\"start\" dy=\"0em\" style=\"font-family: 'Open Sans', verdana, arial, sans-serif; font-size: 17px; fill: rgb(42, 63, 95); opacity: 1; font-weight: normal; white-space: pre;\">Clone size</text></g><g class=\"g-xtitle\"><text class=\"xtitle\" x=\"350\" y=\"460.8\" text-anchor=\"middle\" style=\"font-family: 'Open Sans', verdana, arial, sans-serif; font-size: 14px; fill: rgb(42, 63, 95); opacity: 1; font-weight: normal; white-space: pre;\">x</text></g><g class=\"g-ytitle\"><text class=\"ytitle\" transform=\"rotate(-90,31.840625000000003,260)\" x=\"31.840625000000003\" y=\"260\" text-anchor=\"middle\" style=\"font-family: 'Open Sans', verdana, arial, sans-serif; font-size: 14px; fill: rgb(42, 63, 95); opacity: 1; font-weight: normal; white-space: pre;\">y</text></g></g></svg>"
      ]
     },
     "metadata": {},
     "output_type": "display_data"
    }
   ],
   "source": [
    "# Set number of initial cells to be simulated\n",
    "init_cells = 10_000\n",
    "init_tmax = [90]*init_cells\n",
    "\n",
    "# Fit trajectories for each participant with multiprocessing.\n",
    "np.random.seed(123)\n",
    "if __name__ == '__main__':\n",
    "    with mp.Pool(25) as p:\n",
    "        clone_track = list(tqdm(p.imap(mutation.clonal_evolution, init_tmax), total=len(init_tmax)))\n",
    "\n",
    "\n",
    "# Compute total number of cells in the system at each year\n",
    "total_cells = np.array([clone[:, 0] for clone in clone_track])\n",
    "total_cells = total_cells.sum(axis=0)\n",
    "\n",
    "# Plot total cells in the system\n",
    "fig_total_cells = px.line(title='Clone size',\n",
    "                          x=list(range(total_cells.shape[0])),\n",
    "                          y=total_cells)\n",
    "\n",
    "fig_total_cells.show(renderer='svg')"
   ]
  },
  {
   "cell_type": "code",
   "execution_count": 6,
   "metadata": {},
   "outputs": [],
   "source": [
    "with open('../Resources/CDB mutations.dill', 'wb') as outfile:\n",
    "    dill.dump(clone_track, outfile)"
   ]
  },
  {
   "cell_type": "markdown",
   "metadata": {},
   "source": [
    "# Plots"
   ]
  },
  {
   "cell_type": "code",
   "execution_count": 4,
   "metadata": {},
   "outputs": [],
   "source": [
    "with open('../Resources/CDB mutations.dill', 'rb') as infile:\n",
    "    clone_track = dill.load(infile)"
   ]
  },
  {
   "cell_type": "markdown",
   "metadata": {},
   "source": [
    "## Filtering associated functions"
   ]
  },
  {
   "cell_type": "markdown",
   "metadata": {},
   "source": [
    "# Single initial cell trajectory"
   ]
  },
  {
   "cell_type": "code",
   "execution_count": 6,
   "metadata": {},
   "outputs": [
    {
     "ename": "AttributeError",
     "evalue": "'function' object has no attribute 'filter_clone'",
     "output_type": "error",
     "traceback": [
      "\u001b[0;31m---------------------------------------------------------------------------\u001b[0m",
      "\u001b[0;31mAttributeError\u001b[0m                            Traceback (most recent call last)",
      "\u001b[0;32m<ipython-input-6-56ffff153466>\u001b[0m in \u001b[0;36m<module>\u001b[0;34m\u001b[0m\n\u001b[1;32m      4\u001b[0m \u001b[0mclone\u001b[0m \u001b[0;34m=\u001b[0m \u001b[0mfilter_track\u001b[0m\u001b[0;34m[\u001b[0m\u001b[0;36m0\u001b[0m\u001b[0;34m]\u001b[0m\u001b[0;34m\u001b[0m\u001b[0;34m\u001b[0m\u001b[0m\n\u001b[1;32m      5\u001b[0m \u001b[0;34m\u001b[0m\u001b[0m\n\u001b[0;32m----> 6\u001b[0;31m \u001b[0mfiltered_clone\u001b[0m \u001b[0;34m=\u001b[0m \u001b[0mclonal_evolution\u001b[0m\u001b[0;34m.\u001b[0m\u001b[0mfilter_clone\u001b[0m\u001b[0;34m(\u001b[0m\u001b[0mclone\u001b[0m\u001b[0;34m)\u001b[0m\u001b[0;34m\u001b[0m\u001b[0;34m\u001b[0m\u001b[0m\n\u001b[0m\u001b[1;32m      7\u001b[0m \u001b[0mfiltered_clone\u001b[0m \u001b[0;34m=\u001b[0m \u001b[0mclonal_evolution\u001b[0m\u001b[0;34m.\u001b[0m\u001b[0mdelete_ghosts\u001b[0m \u001b[0;34m(\u001b[0m\u001b[0mfiltered_clone\u001b[0m\u001b[0;34m)\u001b[0m\u001b[0;34m\u001b[0m\u001b[0;34m\u001b[0m\u001b[0m\n\u001b[1;32m      8\u001b[0m \u001b[0mmutations\u001b[0m \u001b[0;34m=\u001b[0m \u001b[0mfiltered_clone\u001b[0m\u001b[0;34m[\u001b[0m\u001b[0;34m:\u001b[0m\u001b[0;34m,\u001b[0m\u001b[0;36m1\u001b[0m\u001b[0;34m:\u001b[0m\u001b[0;34m]\u001b[0m\u001b[0;34m\u001b[0m\u001b[0;34m\u001b[0m\u001b[0m\n",
      "\u001b[0;31mAttributeError\u001b[0m: 'function' object has no attribute 'filter_clone'"
     ]
    }
   ],
   "source": [
    "filter_track = [clone for clone in clone_track if clone.shape[1]>1]\n",
    "\n",
    "\n",
    "clone = filter_track[0]\n",
    "\n",
    "filtered_clone = clonal_evolution.filter_clone(clone)\n",
    "filtered_clone = clonal_evolution.delete_ghosts (filtered_clone)\n",
    "mutations = filtered_clone[:,1:]\n",
    "max_year = mutations.shape[0] -1\n",
    "\n",
    "fig = go.Figure()\n",
    "x = np.linspace(0, max_year, max_year+1)\n",
    "# add jitter to mutations:\n",
    "#mutations = mutations + np.random.normal(scale=0.5, size=mutations.shape)\n",
    "\n",
    "# add_ total_cells\n",
    "fig.add_trace(\n",
    "    go.Scatter(x =x, y = filtered_clone[:,0], mode='lines', fill='tozeroy', fillcolor='rgba(184, 247, 212,0.3)',\n",
    "               line=dict(width=1,color='rgb(184, 247, 212)'),\n",
    "               name='total cells'))\n",
    "\n",
    "\n",
    "fig.add_trace(\n",
    "    go.Scatter(x=[0], y=[0],\n",
    "               mode='lines',\n",
    "               line=dict(color=\"Black\"),\n",
    "               name='Genetic Variants',\n",
    "              # legendgroup_text='hola',\n",
    "               legendgroup='Genetic variants'))\n",
    "\n",
    "for col in range(mutations.shape[1]):\n",
    "    fig.add_trace(\n",
    "        go.Scatter(x=x, y=mutations[:, col], mode='lines', showlegend=False))\n",
    "\n",
    "\n",
    "fig.update_layout(template='plotly_white',\n",
    "                  title='Stochastic evolution of genetic clones from initial HSC',\n",
    "                  xaxis_title='Years',\n",
    "                  yaxis_title='Cell counts')\n",
    "#fig.write_image(path + 'single_cell_evolution.png', scale=5)\n",
    "fig.show()"
   ]
  },
  {
   "cell_type": "markdown",
   "metadata": {},
   "source": [
    "## Full simulation cell counts"
   ]
  },
  {
   "cell_type": "code",
   "execution_count": 15,
   "metadata": {},
   "outputs": [],
   "source": [
    "fig = go.Figure()\n",
    "\n",
    "filter_track = [clone for clone in clone_track if clone.shape[1]>1]\n",
    "for clone in filter_track:\n",
    "    filtered_clone = filter_clone (clone)\n",
    "    filtered_clone = delete_ghosts (filtered_clone)\n",
    "    mutations = filtered_clone[:,1:]\n",
    "    max_year = mutations.shape[0] -1\n",
    "    x = np.linspace(0, max_year, max_year+1)\n",
    "    # add jitter to mutations:\n",
    "    #mutations = mutations + np.random.normal(scale=0.5, size=mutations.shape)\n",
    "    \n",
    "    for col in range(mutations.shape[1]):\n",
    "        fig.add_trace(\n",
    "            go.Scatter(x=x, y=mutations[:, col], mode='lines', showlegend=False))\n",
    "\n",
    "fig.update_layout(template='plotly_white',\n",
    "                  title='Evolution of neutral clones',\n",
    "                  xaxis_title='Years',\n",
    "                  yaxis_title='Cell counts')\n",
    "#fig.write_image(path + '10_000_SC_simulation.png', scale=5)"
   ]
  },
  {
   "cell_type": "markdown",
   "metadata": {},
   "source": [
    "# Simulating the effect of SC on VAF evolution"
   ]
  },
  {
   "cell_type": "code",
   "execution_count": 12,
   "metadata": {},
   "outputs": [],
   "source": [
    "N_cells = 10_000\n",
    "\n",
    "fig = go.Figure()\n",
    "\n",
    "filter_track = [clone for clone in clone_track if clone.shape[1]>1]\n",
    "for clone in filter_track:\n",
    "    filtered_clone = filter_clone (clone)\n",
    "    filtered_clone = delete_ghosts (filtered_clone)\n",
    "    mutations = filtered_clone[:,1:]\n",
    "    max_year = mutations.shape[0] -1\n",
    "    x = np.linspace(0, max_year, max_year+1)\n",
    "    # add jitter to mutations:\n",
    "    #mutations = mutations + np.random.normal(scale=0.5, size=mutations.shape)\n",
    "    \n",
    "    for col in range(mutations.shape[1]):\n",
    "        fig.add_trace(\n",
    "            go.Scatter(x=x, y=mutations[:, col]/(2*N_cells), mode='lines', showlegend=False))\n",
    "\n",
    "# horizontal sequencing threshold\n",
    "fig.add_hrect(y0=0, y1=0.01, line_width=0, fillcolor=\"red\", opacity=0.2)\n",
    "\n",
    "\n",
    "fig.update_layout(template='plotly_white',\n",
    "                  title='Evolution of neutral clones',\n",
    "                  xaxis_title='Years',\n",
    "                  yaxis_title='VAF',\n",
    "                  yaxis_range=[0,0.05])\n",
    "\n",
    "fig.write_image(path + '10_000_VAF.png', scale=5)"
   ]
  },
  {
   "cell_type": "code",
   "execution_count": 13,
   "metadata": {},
   "outputs": [],
   "source": [
    "N_cells = 100_000\n",
    "\n",
    "fig = go.Figure()\n",
    "\n",
    "filter_track = [clone for clone in clone_track if clone.shape[1]>1]\n",
    "for clone in filter_track:\n",
    "    filtered_clone = filter_clone (clone)\n",
    "    filtered_clone = delete_ghosts (filtered_clone)\n",
    "    mutations = filtered_clone[:,1:]\n",
    "    max_year = mutations.shape[0] -1\n",
    "    x = np.linspace(0, max_year, max_year+1)\n",
    "    # add jitter to mutations:\n",
    "    #mutations = mutations + np.random.normal(scale=0.5, size=mutations.shape)\n",
    "    \n",
    "    for col in range(mutations.shape[1]):\n",
    "        fig.add_trace(\n",
    "            go.Scatter(x=x, y=mutations[:, col]/(2*N_cells), mode='lines', showlegend=False))\n",
    "\n",
    "# horizontal sequencing threshold\n",
    "fig.add_hrect(y0=0, y1=0.01, line_width=0, fillcolor=\"red\", opacity=0.2)\n",
    "\n",
    "        \n",
    "        \n",
    "fig.update_layout(template='plotly_white',\n",
    "                  title='Evolution of neutral clones',\n",
    "                  xaxis_title='Years',\n",
    "                  yaxis_title='VAF',\n",
    "                  yaxis_range=[0,0.05])\n",
    "\n",
    "fig.write_image(path + '100_000_VAF.png', scale=5)"
   ]
  },
  {
   "cell_type": "code",
   "execution_count": 14,
   "metadata": {},
   "outputs": [],
   "source": [
    "N_cells = 6_000\n",
    "\n",
    "fig = go.Figure()\n",
    "\n",
    "filter_track = [clone for clone in clone_track if clone.shape[1]>1]\n",
    "for clone in filter_track:\n",
    "    filtered_clone = filter_clone (clone)\n",
    "    filtered_clone = delete_ghosts (filtered_clone)\n",
    "    mutations = filtered_clone[:,1:]\n",
    "    max_year = mutations.shape[0] -1\n",
    "    x = np.linspace(0, max_year, max_year+1)\n",
    "    # add jitter to mutations:\n",
    "    #mutations = mutations + np.random.normal(scale=0.5, size=mutations.shape)\n",
    "    \n",
    "    for col in range(mutations.shape[1]):\n",
    "        fig.add_trace(\n",
    "            go.Scatter(x=x, y=mutations[:, col]/(2*N_cells), mode='lines', showlegend=False))\n",
    "\n",
    "# horizontal sequencing threshold\n",
    "fig.add_hrect(y0=0, y1=0.01, line_width=0, fillcolor=\"red\", opacity=0.2)\n",
    "\n",
    "fig.update_layout(template='plotly_white',\n",
    "                  title='Evolution of neutral clones',\n",
    "                  xaxis_title='Years',\n",
    "                  yaxis_title='VAF',\n",
    "                  yaxis_range=[0,0.05])\n",
    "fig.write_image(path + '6_000_VAF.png', scale=5)"
   ]
  },
  {
   "cell_type": "code",
   "execution_count": 57,
   "metadata": {},
   "outputs": [],
   "source": [
    "N_cells = 385\n",
    "\n",
    "fig = go.Figure()\n",
    "\n",
    "filter_track = [clone for clone in clone_track if clone.shape[1]>1]\n",
    "for clone in filter_track:\n",
    "    filtered_clone = filter_clone (clone)\n",
    "    filtered_clone = delete_ghosts (filtered_clone)\n",
    "    mutations = filtered_clone[:,1:]\n",
    "    max_year = mutations.shape[0] -1\n",
    "    x = np.linspace(0, max_year, max_year+1)\n",
    "    # add jitter to mutations:\n",
    "    #mutations = mutations + np.random.normal(scale=0.5, size=mutations.shape)\n",
    "    \n",
    "    for col in range(mutations.shape[1]):\n",
    "        fig.add_trace(\n",
    "            go.Scatter(x=x, y=mutations[:, col]/(2*N_cells), mode='lines', showlegend=False))\n",
    "\n",
    "# horizontal sequencing threshold\n",
    "fig.add_hrect(y0=0, y1=0.01, line_width=0, fillcolor=\"red\", opacity=0.2)\n",
    "\n",
    "fig.update_layout(template='plotly_white',\n",
    "                  title='Evolution of neutral clones',\n",
    "                  xaxis_title='Years',\n",
    "                  yaxis_title='VAF',\n",
    "                  yaxis_range=[0,0.05])\n",
    "fig.write_image(path + '385_VAF.png', scale=5)"
   ]
  }
 ],
 "metadata": {
  "interpreter": {
   "hash": "dde60de8e9875c685876ef42dc963926c15ddb157663414b4f298cb9cea980dc"
  },
  "kernelspec": {
   "display_name": "Python 3 (ipykernel)",
   "language": "python",
   "name": "python3"
  },
  "language_info": {
   "codemirror_mode": {
    "name": "ipython",
    "version": 3
   },
   "file_extension": ".py",
   "mimetype": "text/x-python",
   "name": "python",
   "nbconvert_exporter": "python",
   "pygments_lexer": "ipython3",
   "version": "3.7.10"
  }
 },
 "nbformat": 4,
 "nbformat_minor": 4
}
